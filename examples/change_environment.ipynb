{
    "cells": [
        {
            "attachments": {},
            "cell_type": "markdown",
            "metadata": {
                "collapsed": false
            },
            "source": [
                "# Changing an environment registered in Sinergym"
            ]
        },
        {
            "attachments": {},
            "cell_type": "markdown",
            "metadata": {
                "collapsed": true,
                "pycharm": {
                    "name": "#%% md\n"
                }
            },
            "source": [
                "As discussed above, Sinergym has a list of available environments that we can call with `gym.make(<environment_id>)` as long as the sinergym package is imported into the python script."
            ]
        },
        {
            "cell_type": "code",
            "execution_count": 1,
            "metadata": {
                "collapsed": false,
                "pycharm": {
                    "is_executing": true,
                    "name": "#%%\n"
                }
            },
            "outputs": [
                {
                    "name": "stdout",
                    "output_type": "stream",
                    "text": [
                        "[2023-05-25 09:34:19,598] EPLUS_ENV_5Zone-hot-continuous-stochastic-v1_MainThread_ROOT INFO:Updating Building model ExternalInterface object if it is not present...\n",
                        "[2023-05-25 09:34:19,598] EPLUS_ENV_5Zone-hot-continuous-stochastic-v1_MainThread_ROOT INFO:Updating Building model Site:Location and SizingPeriod:DesignDay(s) to weather and ddy file...\n",
                        "[2023-05-25 09:34:19,600] EPLUS_ENV_5Zone-hot-continuous-stochastic-v1_MainThread_ROOT INFO:Updating building model OutPut:Variable and variables XML tree model for BVCTB connection.\n",
                        "[2023-05-25 09:34:19,600] EPLUS_ENV_5Zone-hot-continuous-stochastic-v1_MainThread_ROOT INFO:Setting up extra configuration in building model if exists...\n",
                        "[2023-05-25 09:34:19,601] EPLUS_ENV_5Zone-hot-continuous-stochastic-v1_MainThread_ROOT INFO:Setting up action definition in building model if exists...\n"
                    ]
                }
            ],
            "source": [
                "import gymnasium as gym\n",
                "import numpy as np\n",
                "\n",
                "import sinergym\n",
                "env = gym.make('Eplus-5Zone-hot-continuous-stochastic-v1')"
            ]
        },
        {
            "attachments": {},
            "cell_type": "markdown",
            "metadata": {},
            "source": [
                "These environment IDs have a number of components defined, not only the building design (*epJSON*), but also the reward function, the action and observation spaces, the defining variables, etc.\n",
                "\n",
                "If you want a new environment, you can define it from scratch in our [environment list](https://github.com/ugr-sail/sinergym/blob/main/sinergym/__init__.py) and run it locally.\n",
                "\n",
                "Another option (recommended) is to start from one of our environments and change the components you want. You can combine components you want to change obviously.\n",
                "\n",
                "The way to do that is to add in the `gym.make(<environment_id>)` those parameters of the constructor of the *Sinergym* environment we want to change. Let's see what things we can change starting from any environment:"
            ]
        },
        {
            "attachments": {},
            "cell_type": "markdown",
            "metadata": {},
            "source": [
                "## Adding a new reward"
            ]
        },
        {
            "attachments": {},
            "cell_type": "markdown",
            "metadata": {},
            "source": [
                "As mentioned above, simply add the appropriate parameters to `gym.make()` after specifying the environment ID."
            ]
        },
        {
            "cell_type": "code",
            "execution_count": 2,
            "metadata": {
                "collapsed": false,
                "pycharm": {
                    "is_executing": true,
                    "name": "#%%\n"
                }
            },
            "outputs": [
                {
                    "name": "stdout",
                    "output_type": "stream",
                    "text": [
                        "[2023-05-25 09:34:19,694] EPLUS_ENV_5Zone-hot-continuous-v1_MainThread_ROOT INFO:Updating Building model ExternalInterface object if it is not present...\n",
                        "[2023-05-25 09:34:19,695] EPLUS_ENV_5Zone-hot-continuous-v1_MainThread_ROOT INFO:Updating Building model Site:Location and SizingPeriod:DesignDay(s) to weather and ddy file...\n",
                        "[2023-05-25 09:34:19,696] EPLUS_ENV_5Zone-hot-continuous-v1_MainThread_ROOT INFO:Updating building model OutPut:Variable and variables XML tree model for BVCTB connection.\n",
                        "[2023-05-25 09:34:19,696] EPLUS_ENV_5Zone-hot-continuous-v1_MainThread_ROOT INFO:Setting up extra configuration in building model if exists...\n",
                        "[2023-05-25 09:34:19,696] EPLUS_ENV_5Zone-hot-continuous-v1_MainThread_ROOT INFO:Setting up action definition in building model if exists...\n"
                    ]
                }
            ],
            "source": [
                "from sinergym.utils.rewards import LinearReward, ExpReward\n",
                "\n",
                "env = gym.make('Eplus-5Zone-hot-continuous-v1', reward=ExpReward, reward_kwargs={\n",
                "                                                                    'temperature_variable': 'Zone Air Temperature (SPACE1-1)',\n",
                "                                                                    'energy_variable': 'Facility Total HVAC Electricity Demand Rate (Whole Building)',\n",
                "                                                                    'range_comfort_winter': (20.0, 23.5),\n",
                "                                                                    'range_comfort_summer': (23.0, 26.0),\n",
                "                                                                    'energy_weight': 0.1})"
            ]
        },
        {
            "attachments": {},
            "cell_type": "markdown",
            "metadata": {},
            "source": [
                "You have to specify the **reward** class you are going to use in the environment. A reward function class has several parameters that can be specified by user like temperature variables, weights, etc. Depending on the reward function you are using. In order to be able to define it, we have **reward_kwargs** parameter. See [reward documentation](https://ugr-sail.github.io/sinergym/compilation/html/pages/rewards.html) for more information about reward classes and how to create a new one. "
            ]
        },
        {
            "attachments": {},
            "cell_type": "markdown",
            "metadata": {},
            "source": [
                "## Adding other new components to the environment"
            ]
        },
        {
            "attachments": {},
            "cell_type": "markdown",
            "metadata": {},
            "source": [
                "In the same way that we can change the default reward function, as we have done in the second example, \n",
                "it is possible to substitute other default values of the environment ID. \n",
                "\n",
                "You can change the weather file, the number of timesteps an action repeats (default 1), \n",
                "the last n episodes you want to be stored in the Sinergym output folder (default 10), \n",
                "the name of the environment or the variability in stochastic environments:"
            ]
        },
        {
            "cell_type": "code",
            "execution_count": 3,
            "metadata": {},
            "outputs": [
                {
                    "name": "stdout",
                    "output_type": "stream",
                    "text": [
                        "[2023-05-25 09:34:19,803] EPLUS_ENV_new_env_name_MainThread_ROOT INFO:Updating Building model ExternalInterface object if it is not present...\n",
                        "[2023-05-25 09:34:19,804] EPLUS_ENV_new_env_name_MainThread_ROOT INFO:Updating Building model Site:Location and SizingPeriod:DesignDay(s) to weather and ddy file...\n",
                        "[2023-05-25 09:34:19,806] EPLUS_ENV_new_env_name_MainThread_ROOT INFO:Updating building model OutPut:Variable and variables XML tree model for BVCTB connection.\n",
                        "[2023-05-25 09:34:19,807] EPLUS_ENV_new_env_name_MainThread_ROOT INFO:Setting up extra configuration in building model if exists...\n",
                        "[2023-05-25 09:34:19,807] EPLUS_ENV_new_env_name_MainThread_ROOT INFO:Setting up action definition in building model if exists...\n"
                    ]
                }
            ],
            "source": [
                "env = gym.make('Eplus-5Zone-cool-continuous-stochastic-v1', \n",
                "                weather_file='ESP_Granada.084190_SWEC.epw',\n",
                "                weather_variability=(1.0,0.0,0.001),\n",
                "                env_name='new_env_name',\n",
                "                act_repeat=4,\n",
                "                max_ep_data_store_num = 20)"
            ]
        },
        {
            "attachments": {},
            "cell_type": "markdown",
            "metadata": {},
            "source": [
                "## Changing observation and action spaces"
            ]
        },
        {
            "attachments": {},
            "cell_type": "markdown",
            "metadata": {},
            "source": [
                "By default, the IDs of the predefined environments in *Sinergym* already have a space of actions and observations set.\n",
                "\n",
                "However, it can be overwritten by a new definition of them. On the one hand, we will have to define the name of the \n",
                "**variables**, and on the other hand, the definition of the **spaces** (and an **action mapping** if it is a discrete environment)."
            ]
        },
        {
            "cell_type": "code",
            "execution_count": 4,
            "metadata": {},
            "outputs": [
                {
                    "name": "stdout",
                    "output_type": "stream",
                    "text": [
                        "[2023-05-25 09:34:19,950] EPLUS_ENV_datacenter-cool-discrete-stochastic-v1_MainThread_ROOT INFO:Updating Building model ExternalInterface object if it is not present...\n",
                        "[2023-05-25 09:34:19,951] EPLUS_ENV_datacenter-cool-discrete-stochastic-v1_MainThread_ROOT INFO:Updating Building model Site:Location and SizingPeriod:DesignDay(s) to weather and ddy file...\n",
                        "[2023-05-25 09:34:19,952] EPLUS_ENV_datacenter-cool-discrete-stochastic-v1_MainThread_ROOT INFO:Updating building model OutPut:Variable and variables XML tree model for BVCTB connection.\n",
                        "[2023-05-25 09:34:19,953] EPLUS_ENV_datacenter-cool-discrete-stochastic-v1_MainThread_ROOT INFO:Setting up extra configuration in building model if exists...\n",
                        "[2023-05-25 09:34:19,953] EPLUS_ENV_datacenter-cool-discrete-stochastic-v1_MainThread_ROOT INFO:Setting up action definition in building model if exists...\n",
                        "[2023-05-25 09:34:19,956] EPLUS_ENV_datacenter-cool-discrete-stochastic-v1_MainThread_ROOT INFO:Creating new EnergyPlus simulation episode...\n",
                        "[2023-05-25 09:34:20,103] EPLUS_ENV_datacenter-cool-discrete-stochastic-v1_MainThread_ROOT INFO:EnergyPlus working directory is in /workspaces/sinergym/examples/Eplus-env-datacenter-cool-discrete-stochastic-v1-res1/Eplus-env-sub_run1\n"
                    ]
                },
                {
                    "name": "stderr",
                    "output_type": "stream",
                    "text": [
                        "/usr/local/lib/python3.10/dist-packages/opyplus/weather_data/weather_data.py:493: FutureWarning: the 'line_terminator'' keyword is deprecated, use 'lineterminator' instead.\n",
                        "  epw_content = self._headers_to_epw(use_datetimes=use_datetimes) + df.to_csv(\n"
                    ]
                },
                {
                    "name": "stdout",
                    "output_type": "stream",
                    "text": [
                        "Reward:  -0.16725104644419042 {'timestep': 1, 'time_elapsed': 900, 'year': 1991, 'month': 1, 'day': 1, 'hour': 0, 'action': [17, 28], 'reward': -0.16725104644419042, 'reward_energy': -0.33450209288838084, 'reward_comfort': -0.0, 'total_energy': 3345.020928883808, 'abs_comfort': 0.0, 'temperatures': []}\n",
                        "Reward:  -650.1245680706513 {'timestep': 2976, 'time_elapsed': 2678400, 'year': 1991, 'month': 2, 'day': 1, 'hour': 0, 'action': [21, 24], 'reward': -0.19617403787294466, 'reward_energy': -0.3923480757458893, 'reward_comfort': -0.0, 'total_energy': 3923.480757458893, 'abs_comfort': 0.0, 'temperatures': []}\n",
                        "Reward:  -1209.8645937912345 {'timestep': 5664, 'time_elapsed': 5097600, 'year': 1991, 'month': 3, 'day': 1, 'hour': 0, 'action': [17, 28], 'reward': -0.2029474175800276, 'reward_energy': -0.4058948351600552, 'reward_comfort': -0.0, 'total_energy': 4058.948351600552, 'abs_comfort': 0.0, 'temperatures': []}\n",
                        "Reward:  -1793.4197100749338 {'timestep': 8640, 'time_elapsed': 7776000, 'year': 1991, 'month': 4, 'day': 1, 'hour': 0, 'action': [18, 27], 'reward': -0.22602812937185654, 'reward_energy': -0.4520562587437131, 'reward_comfort': -0.0, 'total_energy': 4520.562587437131, 'abs_comfort': 0.0, 'temperatures': []}\n",
                        "Reward:  -2565.106797247593 {'timestep': 11520, 'time_elapsed': 10368000, 'year': 1991, 'month': 5, 'day': 1, 'hour': 0, 'action': [18, 27], 'reward': -0.2410384140249611, 'reward_energy': -0.4820768280499222, 'reward_comfort': -0.0, 'total_energy': 4820.768280499222, 'abs_comfort': 0.0, 'temperatures': []}\n",
                        "Reward:  -3420.500473234373 {'timestep': 14496, 'time_elapsed': 13046400, 'year': 1991, 'month': 6, 'day': 1, 'hour': 0, 'action': [17, 28], 'reward': -0.11729867128239142, 'reward_energy': -0.23459734256478285, 'reward_comfort': -0.0, 'total_energy': 2345.973425647828, 'abs_comfort': 0.0, 'temperatures': []}\n",
                        "Reward:  -4842.073303104839 {'timestep': 17376, 'time_elapsed': 15638400, 'year': 1991, 'month': 7, 'day': 1, 'hour': 0, 'action': [21, 24], 'reward': -0.18492759337955042, 'reward_energy': -0.36985518675910084, 'reward_comfort': -0.0, 'total_energy': 3698.551867591008, 'abs_comfort': 0.0, 'temperatures': []}\n",
                        "Reward:  -6822.458305349569 {'timestep': 20352, 'time_elapsed': 18316800, 'year': 1991, 'month': 8, 'day': 1, 'hour': 0, 'action': [15, 30], 'reward': -0.1171133208982987, 'reward_energy': -0.2342266417965974, 'reward_comfort': -0.0, 'total_energy': 2342.266417965974, 'abs_comfort': 0.0, 'temperatures': []}\n",
                        "Reward:  -9048.095863129856 {'timestep': 23328, 'time_elapsed': 20995200, 'year': 1991, 'month': 9, 'day': 1, 'hour': 0, 'action': [19, 26], 'reward': -0.22604444846960037, 'reward_energy': -0.45208889693920074, 'reward_comfort': -0.0, 'total_energy': 4520.888969392007, 'abs_comfort': 0.0, 'temperatures': []}\n",
                        "Reward:  -10625.433128775607 {'timestep': 26208, 'time_elapsed': 23587200, 'year': 1991, 'month': 10, 'day': 1, 'hour': 0, 'action': [22, 22], 'reward': -0.18744747683239846, 'reward_energy': -0.3748949536647969, 'reward_comfort': -0.0, 'total_energy': 3748.949536647969, 'abs_comfort': 0.0, 'temperatures': []}\n",
                        "Reward:  -11365.56354062105 {'timestep': 29184, 'time_elapsed': 26265600, 'year': 1991, 'month': 11, 'day': 1, 'hour': 0, 'action': [21, 24], 'reward': -0.18744747683239846, 'reward_energy': -0.3748949536647969, 'reward_comfort': -0.0, 'total_energy': 3748.949536647969, 'abs_comfort': 0.0, 'temperatures': []}\n",
                        "Reward:  -11946.09130582663 {'timestep': 32064, 'time_elapsed': 28857600, 'year': 1991, 'month': 12, 'day': 1, 'hour': 0, 'action': [16, 29], 'reward': -0.09441168398757514, 'reward_energy': -0.18882336797515029, 'reward_comfort': -0.0, 'total_energy': 1888.233679751503, 'abs_comfort': 0.0, 'temperatures': []}\n",
                        "Reward:  -12556.626001067187 {'timestep': 35040, 'time_elapsed': 31536000, 'year': 1992, 'month': 1, 'day': 1, 'hour': 0, 'action': [19, 26], 'reward': -0.3053177395385943, 'reward_energy': -0.6106354790771886, 'reward_comfort': -0.0, 'total_energy': 6106.354790771886, 'abs_comfort': 0.0, 'temperatures': []}\n",
                        "Episode  0 Mean reward:  -0.3583511986606139 Cumulative reward:  -12556.626001067187\n",
                        "[2023-05-25 09:34:51,035] EPLUS_ENV_datacenter-cool-discrete-stochastic-v1_MainThread_ROOT INFO:EnergyPlus simulation closed successfully. \n"
                    ]
                }
            ],
            "source": [
                "import gymnasium as gym\n",
                "import numpy as np\n",
                "\n",
                "import sinergym\n",
                "\n",
                "new_observation_variables=[\n",
                "    'Site Outdoor Air Drybulb Temperature(Environment)',\n",
                "    'Site Outdoor Air Relative Humidity(Environment)',\n",
                "    'Site Wind Speed(Environment)',\n",
                "    'Zone Thermal Comfort Fanger Model PPD(East Zone PEOPLE)',\n",
                "    'Zone People Occupant Count(East Zone)',\n",
                "    'People Air Temperature(East Zone PEOPLE)',\n",
                "    'Facility Total HVAC Electricity Demand Rate(Whole Building)'\n",
                "]\n",
                "\n",
                "new_action_variables = [\n",
                "    'Heating_Setpoint_RL',\n",
                "    'Cooling_Setpoint_RL',\n",
                "]\n",
                "\n",
                "new_observation_space = gym.spaces.Box(\n",
                "    low=-5e6,\n",
                "    high=5e6,\n",
                "    shape=(len(new_observation_variables) + 4,),\n",
                "    dtype=np.float32)\n",
                "\n",
                "new_action_mapping = {\n",
                "    0: (15, 30),\n",
                "    1: (16, 29),\n",
                "    2: (17, 28),\n",
                "    3: (18, 27),\n",
                "    4: (19, 26),\n",
                "    5: (20, 25),\n",
                "    6: (21, 24),\n",
                "    7: (22, 23),\n",
                "    8: (22, 22),\n",
                "    9: (21, 21)\n",
                "}\n",
                "\n",
                "new_action_space = gym.spaces.Discrete(10)\n",
                "\n",
                "env = gym.make('Eplus-datacenter-cool-discrete-stochastic-v1', \n",
                "                observation_variables=new_observation_variables,\n",
                "                observation_space=new_observation_space,\n",
                "                action_variables=new_action_variables,\n",
                "                action_mapping=new_action_mapping,\n",
                "                action_space=new_action_space\n",
                "            )\n",
                "\n",
                "\n",
                "for i in range(1):\n",
                "    obs, info = env.reset()\n",
                "    rewards = []\n",
                "    terminated = False\n",
                "    current_month = 0\n",
                "    while not terminated:\n",
                "        a = env.action_space.sample()\n",
                "        obs, reward, terminated, truncated, info = env.step(a)\n",
                "        rewards.append(reward)\n",
                "        if info['month'] != current_month:  # display results every month\n",
                "            current_month = info['month']\n",
                "            print('Reward: ', sum(rewards), info)\n",
                "    print(\n",
                "        'Episode ',\n",
                "        i,\n",
                "        'Mean reward: ',\n",
                "        np.mean(rewards),\n",
                "        'Cumulative reward: ',\n",
                "        sum(rewards))\n",
                "env.close()"
            ]
        },
        {
            "attachments": {},
            "cell_type": "markdown",
            "metadata": {},
            "source": [
                "In case the definition has some inconsistency, such as the building file has not been \n",
                "adapted to the new actions, the spaces do not fit with the variables, the \n",
                "observation variables do not exist, etc. *Sinergym* will display an error.\n",
                "\n",
                "**Action variables** defined must exists in building model like external interface.\n",
                "Then, you have two possibilities: \n",
                "\n",
                "- First, you can modify building file directly, but it is necessary to update several \n",
                "  components depending in order to connect them to the external interface \n",
                "  (requires knowledge of the building and EnergyPlus).\n",
                "- Second, you can use the **action definition** functionality of *Sinergym* (recommended).\n",
                "  This functionality will modify the building file before starting the simulation automatically \n",
                "  based on a simple definition of the components to be replaced by an external control.\n",
                "  See \"updating action definition\" example to learn how to use it.\n"
            ]
        },
        {
            "attachments": {},
            "cell_type": "markdown",
            "metadata": {},
            "source": [
                "## Getting information about building model with Sinergym"
            ]
        },
        {
            "attachments": {},
            "cell_type": "markdown",
            "metadata": {
                "collapsed": true,
                "pycharm": {
                    "name": "#%% md\n"
                }
            },
            "source": [
                "Sinergym can get the schedulers information automatically, in a Python dictionary and/or exporting that information in a excel file.\n",
                "This information lets you know what things can be controlled by an external interface in the building.\n",
                "The way to do it is very simple, just load the environment and call a method:"
            ]
        },
        {
            "cell_type": "code",
            "execution_count": 5,
            "metadata": {
                "collapsed": false,
                "pycharm": {
                    "is_executing": true,
                    "name": "#%%\n"
                }
            },
            "outputs": [
                {
                    "name": "stdout",
                    "output_type": "stream",
                    "text": [
                        "[2023-05-25 09:34:51,133] EPLUS_ENV_demo-v1_MainThread_ROOT INFO:Updating Building model ExternalInterface object if it is not present...\n",
                        "[2023-05-25 09:34:51,133] EPLUS_ENV_demo-v1_MainThread_ROOT INFO:Updating Building model Site:Location and SizingPeriod:DesignDay(s) to weather and ddy file...\n",
                        "[2023-05-25 09:34:51,135] EPLUS_ENV_demo-v1_MainThread_ROOT INFO:Updating building model OutPut:Variable and variables XML tree model for BVCTB connection.\n",
                        "[2023-05-25 09:34:51,135] EPLUS_ENV_demo-v1_MainThread_ROOT INFO:Setting up extra configuration in building model if exists...\n",
                        "[2023-05-25 09:34:51,136] EPLUS_ENV_demo-v1_MainThread_ROOT INFO:Setting up action definition in building model if exists...\n",
                        "{'ActSchd': {'SPACE1-1 People 1': {'field_name': 'activity_level_schedule_name',\n",
                        "                                   'table_name': 'People'},\n",
                        "             'SPACE2-1 People 1': {'field_name': 'activity_level_schedule_name',\n",
                        "                                   'table_name': 'People'},\n",
                        "             'SPACE3-1 People 1': {'field_name': 'activity_level_schedule_name',\n",
                        "                                   'table_name': 'People'},\n",
                        "             'SPACE4-1 People 1': {'field_name': 'activity_level_schedule_name',\n",
                        "                                   'table_name': 'People'},\n",
                        "             'SPACE5-1 People 1': {'field_name': 'activity_level_schedule_name',\n",
                        "                                   'table_name': 'People'},\n",
                        "             'Type': 'Any Number'},\n",
                        " 'ActivitySch': {'Type': 'Any Number'},\n",
                        " 'AirVelocitySch': {'SPACE1-1 People 1': {'field_name': 'air_velocity_schedule_name',\n",
                        "                                          'table_name': 'People'},\n",
                        "                    'SPACE2-1 People 1': {'field_name': 'air_velocity_schedule_name',\n",
                        "                                          'table_name': 'People'},\n",
                        "                    'SPACE3-1 People 1': {'field_name': 'air_velocity_schedule_name',\n",
                        "                                          'table_name': 'People'},\n",
                        "                    'SPACE4-1 People 1': {'field_name': 'air_velocity_schedule_name',\n",
                        "                                          'table_name': 'People'},\n",
                        "                    'SPACE5-1 People 1': {'field_name': 'air_velocity_schedule_name',\n",
                        "                                          'table_name': 'People'},\n",
                        "                    'Type': 'Any Number'},\n",
                        " 'BasinHeaterSched': {'Main Cooling Coil 1': {'field_name': 'basin_heater_operating_schedule_name',\n",
                        "                                              'table_name': 'Coil:Cooling:DX:TwoSpeed'},\n",
                        "                      'Type': 'On/Off'},\n",
                        " 'Clg-SetP-Sch': {'CoolingSetpoint': {'field_name': 'setpoint_temperature_schedule_name',\n",
                        "                                      'table_name': 'ThermostatSetpoint:SingleCooling'},\n",
                        "                  'DualSetPoint': {'field_name': 'cooling_setpoint_temperature_schedule_name',\n",
                        "                                   'table_name': 'ThermostatSetpoint:DualSetpoint'},\n",
                        "                  'Type': 'Temperature'},\n",
                        " 'ClothingSch': {'Type': 'Any Number'},\n",
                        " 'CoolingCoilAvailSched': {'DX Cooling Coil System 1': {'field_name': 'availability_schedule_name',\n",
                        "                                                        'table_name': 'CoilSystem:Cooling:DX'},\n",
                        "                           'Main Cooling Coil 1': {'field_name': 'availability_schedule_name',\n",
                        "                                                   'table_name': 'Coil:Cooling:DX:TwoSpeed'},\n",
                        "                           'Type': 'Fraction'},\n",
                        " 'EQUIP-1': {'SPACE1-1 ElecEq 1': {'field_name': 'schedule_name',\n",
                        "                                   'table_name': 'ElectricEquipment'},\n",
                        "             'SPACE2-1 ElecEq 1': {'field_name': 'schedule_name',\n",
                        "                                   'table_name': 'ElectricEquipment'},\n",
                        "             'SPACE3-1 ElecEq 1': {'field_name': 'schedule_name',\n",
                        "                                   'table_name': 'ElectricEquipment'},\n",
                        "             'SPACE4-1 ElecEq 1': {'field_name': 'schedule_name',\n",
                        "                                   'table_name': 'ElectricEquipment'},\n",
                        "             'SPACE5-1 ElecEq 1': {'field_name': 'schedule_name',\n",
                        "                                   'table_name': 'ElectricEquipment'},\n",
                        "             'Type': 'Fraction'},\n",
                        " 'FanAvailSched': {'Supply Fan 1': {'field_name': 'availability_schedule_name',\n",
                        "                                    'table_name': 'Fan:VariableVolume'},\n",
                        "                   'Type': 'Fraction',\n",
                        "                   'VAV Sys 1 Avail': {'field_name': 'schedule_name',\n",
                        "                                       'table_name': 'AvailabilityManager:Scheduled'}},\n",
                        " 'Htg-SetP-Sch': {'DualSetPoint': {'field_name': 'heating_setpoint_temperature_schedule_name',\n",
                        "                                   'table_name': 'ThermostatSetpoint:DualSetpoint'},\n",
                        "                  'HeatingSetpoint': {'field_name': 'setpoint_temperature_schedule_name',\n",
                        "                                      'table_name': 'ThermostatSetpoint:SingleHeating'},\n",
                        "                  'Type': 'Temperature'},\n",
                        " 'INFIL-SCH': {'SPACE1-1 Infil 1': {'field_name': 'schedule_name',\n",
                        "                                    'table_name': 'ZoneInfiltration:DesignFlowRate'},\n",
                        "               'SPACE2-1 Infil 1': {'field_name': 'schedule_name',\n",
                        "                                    'table_name': 'ZoneInfiltration:DesignFlowRate'},\n",
                        "               'SPACE3-1 Infil 1': {'field_name': 'schedule_name',\n",
                        "                                    'table_name': 'ZoneInfiltration:DesignFlowRate'},\n",
                        "               'SPACE4-1 Infil 1': {'field_name': 'schedule_name',\n",
                        "                                    'table_name': 'ZoneInfiltration:DesignFlowRate'},\n",
                        "               'SPACE5-1 Infil 1': {'field_name': 'schedule_name',\n",
                        "                                    'table_name': 'ZoneInfiltration:DesignFlowRate'},\n",
                        "               'Type': 'Fraction'},\n",
                        " 'LIGHTS-1': {'SPACE1-1 Lights 1': {'field_name': 'schedule_name',\n",
                        "                                    'table_name': 'Lights'},\n",
                        "              'SPACE2-1 Lights 1': {'field_name': 'schedule_name',\n",
                        "                                    'table_name': 'Lights'},\n",
                        "              'SPACE3-1 Lights 1': {'field_name': 'schedule_name',\n",
                        "                                    'table_name': 'Lights'},\n",
                        "              'SPACE4-1 Lights 1': {'field_name': 'schedule_name',\n",
                        "                                    'table_name': 'Lights'},\n",
                        "              'SPACE5-1 Lights 1': {'field_name': 'schedule_name',\n",
                        "                                    'table_name': 'Lights'},\n",
                        "              'Type': 'Fraction'},\n",
                        " 'Min OA Sched': {'OA Controller 1': {'field_name': 'minimum_outdoor_air_schedule_name',\n",
                        "                                      'table_name': 'Controller:OutdoorAir'},\n",
                        "                  'Type': 'Fraction'},\n",
                        " 'Min OARequirements Sched': {'Type': 'Any Number',\n",
                        "                              'ZoneMinOARequirements': {'field_name': 'outdoor_air_schedule_name',\n",
                        "                                                        'table_name': 'DesignSpecification:OutdoorAir'}},\n",
                        " 'OCCUPY-1': {'SPACE1-1 People 1': {'field_name': 'number_of_people_schedule_name',\n",
                        "                                    'table_name': 'People'},\n",
                        "              'SPACE2-1 People 1': {'field_name': 'number_of_people_schedule_name',\n",
                        "                                    'table_name': 'People'},\n",
                        "              'SPACE3-1 People 1': {'field_name': 'number_of_people_schedule_name',\n",
                        "                                    'table_name': 'People'},\n",
                        "              'SPACE4-1 People 1': {'field_name': 'number_of_people_schedule_name',\n",
                        "                                    'table_name': 'People'},\n",
                        "              'SPACE5-1 People 1': {'field_name': 'number_of_people_schedule_name',\n",
                        "                                    'table_name': 'People'},\n",
                        "              'Type': 'Fraction'},\n",
                        " 'PlenumClg-SetP-Sch': {'PlenumCoolingSetpoint': {'field_name': 'setpoint_temperature_schedule_name',\n",
                        "                                                  'table_name': 'ThermostatSetpoint:SingleCooling'},\n",
                        "                        'Type': 'Temperature'},\n",
                        " 'PlenumHtg-SetP-Sch': {'PlenumHeatingSetpoint': {'field_name': 'setpoint_temperature_schedule_name',\n",
                        "                                                  'table_name': 'ThermostatSetpoint:SingleHeating'},\n",
                        "                        'Type': 'Temperature'},\n",
                        " 'ReheatCoilAvailSched': {'Main heating Coil 1': {'field_name': 'availability_schedule_name',\n",
                        "                                                  'table_name': 'Coil:Heating:Electric'},\n",
                        "                          'SPACE1-1 VAV Reheat': {'field_name': 'availability_schedule_name',\n",
                        "                                                  'table_name': 'AirTerminal:SingleDuct:VAV:Reheat'},\n",
                        "                          'SPACE1-1 Zone Coil': {'field_name': 'availability_schedule_name',\n",
                        "                                                 'table_name': 'Coil:Heating:Electric'},\n",
                        "                          'SPACE2-1 VAV Reheat': {'field_name': 'availability_schedule_name',\n",
                        "                                                  'table_name': 'AirTerminal:SingleDuct:VAV:Reheat'},\n",
                        "                          'SPACE2-1 Zone Coil': {'field_name': 'availability_schedule_name',\n",
                        "                                                 'table_name': 'Coil:Heating:Electric'},\n",
                        "                          'SPACE3-1 VAV Reheat': {'field_name': 'availability_schedule_name',\n",
                        "                                                  'table_name': 'AirTerminal:SingleDuct:VAV:Reheat'},\n",
                        "                          'SPACE3-1 Zone Coil': {'field_name': 'availability_schedule_name',\n",
                        "                                                 'table_name': 'Coil:Heating:Electric'},\n",
                        "                          'SPACE4-1 VAV Reheat': {'field_name': 'availability_schedule_name',\n",
                        "                                                  'table_name': 'AirTerminal:SingleDuct:VAV:Reheat'},\n",
                        "                          'SPACE4-1 Zone Coil': {'field_name': 'availability_schedule_name',\n",
                        "                                                 'table_name': 'Coil:Heating:Electric'},\n",
                        "                          'SPACE5-1 VAV Reheat': {'field_name': 'availability_schedule_name',\n",
                        "                                                  'table_name': 'AirTerminal:SingleDuct:VAV:Reheat'},\n",
                        "                          'SPACE5-1 Zone Coil': {'field_name': 'availability_schedule_name',\n",
                        "                                                 'table_name': 'Coil:Heating:Electric'},\n",
                        "                          'Type': 'Fraction'},\n",
                        " 'Seasonal Reset Supply Air Temp Sch': {'Type': 'Temperature'},\n",
                        " 'ShadeTransSch': {'Main South Overhang': {'field_name': 'transmittance_schedule_name',\n",
                        "                                           'table_name': 'Shading:Zone:Detailed'},\n",
                        "                   'South Door Overhang': {'field_name': 'transmittance_schedule_name',\n",
                        "                                           'table_name': 'Shading:Zone:Detailed'},\n",
                        "                   'Type': 'Fraction'},\n",
                        " 'WorkEffSch': {'SPACE1-1 People 1': {'field_name': 'work_efficiency_schedule_name',\n",
                        "                                      'table_name': 'People'},\n",
                        "                'SPACE2-1 People 1': {'field_name': 'work_efficiency_schedule_name',\n",
                        "                                      'table_name': 'People'},\n",
                        "                'SPACE3-1 People 1': {'field_name': 'work_efficiency_schedule_name',\n",
                        "                                      'table_name': 'People'},\n",
                        "                'SPACE4-1 People 1': {'field_name': 'work_efficiency_schedule_name',\n",
                        "                                      'table_name': 'People'},\n",
                        "                'SPACE5-1 People 1': {'field_name': 'work_efficiency_schedule_name',\n",
                        "                                      'table_name': 'People'},\n",
                        "                'Type': 'Fraction'},\n",
                        " 'Zone Control Type Sched': {'SPACE1-1 Control': {'field_name': 'control_type_schedule_name',\n",
                        "                                                  'table_name': 'ZoneControl:Thermostat'},\n",
                        "                             'SPACE2-1 Control': {'field_name': 'control_type_schedule_name',\n",
                        "                                                  'table_name': 'ZoneControl:Thermostat'},\n",
                        "                             'SPACE3-1 Control': {'field_name': 'control_type_schedule_name',\n",
                        "                                                  'table_name': 'ZoneControl:Thermostat'},\n",
                        "                             'SPACE4-1 Control': {'field_name': 'control_type_schedule_name',\n",
                        "                                                  'table_name': 'ZoneControl:Thermostat'},\n",
                        "                             'SPACE5-1 Control': {'field_name': 'control_type_schedule_name',\n",
                        "                                                  'table_name': 'ZoneControl:Thermostat'},\n",
                        "                             'Type': 'Control Type'}}\n"
                    ]
                }
            ],
            "source": [
                "import gymnasium as gym\n",
                "import sinergym\n",
                "\n",
                "from pprint import pprint\n",
                "\n",
                "env = gym.make('Eplus-demo-v1')\n",
                "schedulers=env.get_schedulers()\n",
                "pprint(schedulers)"
            ]
        },
        {
            "attachments": {},
            "cell_type": "markdown",
            "metadata": {
                "collapsed": false,
                "pycharm": {
                    "name": "#%% md\n"
                }
            },
            "source": [
                "The way to export an excel file with such organized information is by specifying a path to the method:"
            ]
        },
        {
            "cell_type": "code",
            "execution_count": 6,
            "metadata": {
                "collapsed": false,
                "pycharm": {
                    "is_executing": true,
                    "name": "#%%\n"
                }
            },
            "outputs": [],
            "source": [
                "actuators=env.get_schedulers(path='./example.xlsx')"
            ]
        },
        {
            "attachments": {},
            "cell_type": "markdown",
            "metadata": {},
            "source": [
                "It is possible to know the zones available in the environment too. You only have to do the next:"
            ]
        },
        {
            "cell_type": "code",
            "execution_count": 7,
            "metadata": {},
            "outputs": [
                {
                    "name": "stdout",
                    "output_type": "stream",
                    "text": [
                        "['PLENUM-1', 'SPACE1-1', 'SPACE2-1', 'SPACE3-1', 'SPACE4-1', 'SPACE5-1']\n"
                    ]
                }
            ],
            "source": [
                "print(env.get_zones())"
            ]
        },
        {
            "attachments": {},
            "cell_type": "markdown",
            "metadata": {},
            "source": [
                "## Updating the action definition of the environment"
            ]
        },
        {
            "attachments": {},
            "cell_type": "markdown",
            "metadata": {},
            "source": [
                "As we have explained in the action and observation space example, one of the problems that can arise when \n",
                "modifying the space of actions and observations is that the building model is not adapted to the \n",
                "new space of actions established.\n",
                "\n",
                "For this purpose, the *Sinergym* **action definition** is available. With a dictionary we can \n",
                "build a definition of what scheduler we want to be replaced in the building by the external control.\n",
                "\n",
                "For this example, we are going to add lights control to the external interface for the agent.\n",
                "Then, is not only necessary to update that **action definition**, the list of the action\n",
                "variables and space is necessary to be updated too."
            ]
        },
        {
            "cell_type": "code",
            "execution_count": 8,
            "metadata": {},
            "outputs": [
                {
                    "name": "stdout",
                    "output_type": "stream",
                    "text": [
                        "[2023-05-25 09:34:51,382] EPLUS_ENV_5Zone-cool-continuous-stochastic-v1_MainThread_ROOT INFO:Updating Building model ExternalInterface object if it is not present...\n",
                        "[2023-05-25 09:34:51,383] EPLUS_ENV_5Zone-cool-continuous-stochastic-v1_MainThread_ROOT INFO:Updating Building model Site:Location and SizingPeriod:DesignDay(s) to weather and ddy file...\n",
                        "[2023-05-25 09:34:51,385] EPLUS_ENV_5Zone-cool-continuous-stochastic-v1_MainThread_ROOT INFO:Updating building model OutPut:Variable and variables XML tree model for BVCTB connection.\n",
                        "[2023-05-25 09:34:51,385] EPLUS_ENV_5Zone-cool-continuous-stochastic-v1_MainThread_ROOT INFO:Setting up extra configuration in building model if exists...\n",
                        "[2023-05-25 09:34:51,385] EPLUS_ENV_5Zone-cool-continuous-stochastic-v1_MainThread_ROOT INFO:Setting up action definition in building model if exists...\n",
                        "[2023-05-25 09:34:51,388] EPLUS_ENV_5Zone-cool-continuous-stochastic-v1_MainThread_ROOT INFO:Creating new EnergyPlus simulation episode...\n",
                        "[2023-05-25 09:34:51,519] EPLUS_ENV_5Zone-cool-continuous-stochastic-v1_MainThread_ROOT INFO:EnergyPlus working directory is in /workspaces/sinergym/examples/Eplus-env-5Zone-cool-continuous-stochastic-v1-res1/Eplus-env-sub_run1\n"
                    ]
                },
                {
                    "name": "stderr",
                    "output_type": "stream",
                    "text": [
                        "/usr/local/lib/python3.10/dist-packages/opyplus/weather_data/weather_data.py:493: FutureWarning: the 'line_terminator'' keyword is deprecated, use 'lineterminator' instead.\n",
                        "  epw_content = self._headers_to_epw(use_datetimes=use_datetimes) + df.to_csv(\n"
                    ]
                },
                {
                    "name": "stdout",
                    "output_type": "stream",
                    "text": [
                        "Reward:  -0.11605973685300276 {'timestep': 1, 'time_elapsed': 900, 'year': 1991, 'month': 1, 'day': 1, 'hour': 0, 'action': [20.23509, 27.545094, 0.9503536], 'reward': -0.11605973685300276, 'reward_energy': -0.23211947370600552, 'reward_comfort': -0.0, 'total_energy': 2321.194737060055, 'abs_comfort': 0.0, 'temperatures': [20.32035897679374]}\n",
                        "Reward:  -1455.6634582541235 {'timestep': 2976, 'time_elapsed': 2678400, 'year': 1991, 'month': 2, 'day': 1, 'hour': 0, 'action': [19.875813, 27.501947, 0.4492449], 'reward': -0.28627477575703075, 'reward_energy': -0.43080619487310295, 'reward_comfort': -0.1417433566409585, 'total_energy': 4308.06194873103, 'abs_comfort': 0.1417433566409585, 'temperatures': [19.85825664335904]}\n",
                        "Reward:  -2848.0934402285147 {'timestep': 5664, 'time_elapsed': 5097600, 'year': 1991, 'month': 3, 'day': 1, 'hour': 0, 'action': [16.087557, 28.88592, 0.108617604], 'reward': -0.6262908150097358, 'reward_energy': -0.05489061228459239, 'reward_comfort': -1.1976910177348792, 'total_energy': 548.9061228459238, 'abs_comfort': 1.1976910177348792, 'temperatures': [18.80230898226512]}\n",
                        "Reward:  -3703.131984266502 {'timestep': 8640, 'time_elapsed': 7776000, 'year': 1991, 'month': 4, 'day': 1, 'hour': 0, 'action': [21.22863, 23.651953, 0.40605396], 'reward': -0.28941502184804935, 'reward_energy': -0.5788300436960987, 'reward_comfort': -0.0, 'total_energy': 5788.300436960987, 'abs_comfort': 0.0, 'temperatures': [21.11381679118189]}\n",
                        "Reward:  -4838.529345704784 {'timestep': 11520, 'time_elapsed': 10368000, 'year': 1991, 'month': 5, 'day': 1, 'hour': 0, 'action': [21.260231, 27.354906, 0.14499944], 'reward': -0.10787688303576061, 'reward_energy': -0.21575376607152122, 'reward_comfort': -0.0, 'total_energy': 2157.537660715212, 'abs_comfort': 0.0, 'temperatures': [21.25264693843734]}\n",
                        "Reward:  -5724.868287596131 {'timestep': 14496, 'time_elapsed': 13046400, 'year': 1991, 'month': 6, 'day': 1, 'hour': 0, 'action': [18.90237, 23.55304, 0.1025894], 'reward': -1.3913830662461493, 'reward_energy': -0.04527025324859942, 'reward_comfort': -2.737495879243699, 'total_energy': 452.7025324859942, 'abs_comfort': 2.737495879243699, 'temperatures': [20.2625041207563]}\n",
                        "Reward:  -7240.3912178052315 {'timestep': 17376, 'time_elapsed': 15638400, 'year': 1991, 'month': 7, 'day': 1, 'hour': 0, 'action': [15.083098, 27.5696, 0.20349827], 'reward': -0.565491934711382, 'reward_energy': -0.00386282277963498, 'reward_comfort': -1.1271210466431292, 'total_energy': 38.6282277963498, 'abs_comfort': 1.1271210466431292, 'temperatures': [21.87287895335687]}\n",
                        "Reward:  -8717.081975591504 {'timestep': 20352, 'time_elapsed': 18316800, 'year': 1991, 'month': 8, 'day': 1, 'hour': 0, 'action': [19.155481, 27.979729, 0.4223631], 'reward': -1.1098838831623958, 'reward_energy': -0.03628851183499179, 'reward_comfort': -2.1834792544898, 'total_energy': 362.8851183499179, 'abs_comfort': 2.1834792544898, 'temperatures': [20.8165207455102]}\n",
                        "Reward:  -10167.04219268928 {'timestep': 23328, 'time_elapsed': 20995200, 'year': 1991, 'month': 9, 'day': 1, 'hour': 0, 'action': [18.785131, 24.668884, 0.72005403], 'reward': -0.6177244676419724, 'reward_energy': -0.00386282277963498, 'reward_comfort': -1.23158611250431, 'total_energy': 38.6282277963498, 'abs_comfort': 1.23158611250431, 'temperatures': [21.76841388749569]}\n",
                        "Reward:  -12135.851186501837 {'timestep': 26208, 'time_elapsed': 23587200, 'year': 1991, 'month': 10, 'day': 1, 'hour': 0, 'action': [16.316309, 24.31791, 0.68061405], 'reward': -0.29110024290416675, 'reward_energy': -0.05489061228459239, 'reward_comfort': -0.5273098735237411, 'total_energy': 548.9061228459238, 'abs_comfort': 0.5273098735237411, 'temperatures': [19.47269012647626]}\n",
                        "Reward:  -13217.807455955033 {'timestep': 29184, 'time_elapsed': 26265600, 'year': 1991, 'month': 11, 'day': 1, 'hour': 0, 'action': [21.327572, 28.657503, 0.54281044], 'reward': -0.3991606046509491, 'reward_energy': -0.7983212093018982, 'reward_comfort': -0.0, 'total_energy': 7983.212093018982, 'abs_comfort': 0.0, 'temperatures': [21.18250554829811]}\n",
                        "Reward:  -14287.54022701166 {'timestep': 32064, 'time_elapsed': 28857600, 'year': 1991, 'month': 12, 'day': 1, 'hour': 0, 'action': [17.432796, 23.188751, 0.97376275], 'reward': -0.5335105254134008, 'reward_energy': -0.08503310689805112, 'reward_comfort': -0.9819879439287504, 'total_energy': 850.3310689805112, 'abs_comfort': 0.9819879439287504, 'temperatures': [19.01801205607125]}\n",
                        "Reward:  -15535.672071614204 {'timestep': 35040, 'time_elapsed': 31536000, 'year': 1992, 'month': 1, 'day': 1, 'hour': 0, 'action': [18.43125, 25.341702, 0.66435885], 'reward': -0.8261587133161284, 'reward_energy': -0.1310839506079359, 'reward_comfort': -1.521233476024321, 'total_energy': 1310.839506079359, 'abs_comfort': 1.521233476024321, 'temperatures': [18.47876652397568]}\n",
                        "Episode  0 Mean reward:  -0.4433696367469619 Cumulative reward:  -15535.672071614204\n",
                        "[2023-05-25 09:35:02,305] EPLUS_ENV_5Zone-cool-continuous-stochastic-v1_MainThread_ROOT INFO:EnergyPlus simulation closed successfully. \n"
                    ]
                }
            ],
            "source": [
                "import gymnasium as gym\n",
                "import numpy as np\n",
                "\n",
                "new_action_variables=[\n",
                "'Heating_Setpoint_RL',\n",
                "'Cooling_Setpoint_RL',\n",
                "'light_control'\n",
                "]\n",
                "\n",
                "new_action_space=gym.spaces.Box(\n",
                "    low=np.array([15.0, 22.5, 0.0], dtype=np.float32),\n",
                "    high=np.array([22.5, 30.0, 1.0], dtype=np.float32),\n",
                "    shape=(3,),\n",
                "    dtype=np.float32\n",
                ")\n",
                "\n",
                "new_action_definition={\n",
                "    'Htg-SetP-Sch': {'name': 'Heating_Setpoint_RL', 'initial_value': 21},\n",
                "    'Clg-SetP-Sch': {'name': 'Cooling_Setpoint_RL', 'initial_value': 25},\n",
                "    'LIGHTS-1':{'name':'light_control','initial_value':0.2}\n",
                "\n",
                "}\n",
                "\n",
                "env = gym.make('Eplus-5Zone-cool-continuous-stochastic-v1',\n",
                "                action_variables=new_action_variables,\n",
                "                action_space=new_action_space,\n",
                "                action_definition=new_action_definition\n",
                "                )\n",
                "\n",
                "for i in range(1):\n",
                "    obs, info = env.reset()\n",
                "    rewards = []\n",
                "    terminated = False\n",
                "    current_month = 0\n",
                "    while not terminated:\n",
                "        a = env.action_space.sample()\n",
                "        obs, reward, terminated, truncated, info = env.step(a)\n",
                "        rewards.append(reward)\n",
                "        if info['month'] != current_month:  # display results every month\n",
                "            current_month = info['month']\n",
                "            print('Reward: ', sum(rewards), info)\n",
                "    print(\n",
                "        'Episode ',\n",
                "        i,\n",
                "        'Mean reward: ',\n",
                "        np.mean(rewards),\n",
                "        'Cumulative reward: ',\n",
                "        sum(rewards))\n",
                "env.close()"
            ]
        },
        {
            "attachments": {},
            "cell_type": "markdown",
            "metadata": {},
            "source": [
                "Previously, it is recommended to know what controllers are available in the specific building model, see the previous example of this notebook. For more information about the format of the action definition dictionaries, visit the section called [action definition](https://ugr-sail.github.io/sinergym/compilation/html/pages/environments.html#action-definition)."
            ]
        },
        {
            "attachments": {},
            "cell_type": "markdown",
            "metadata": {},
            "source": [
                "## Adding more extra configuration"
            ]
        },
        {
            "attachments": {},
            "cell_type": "markdown",
            "metadata": {},
            "source": [
                "You can even add a dictionary with extra parameters that update building model with some new context concerned with simulation directly.\n",
                "\n",
                "This new building file version, which also adapts to the new weather you put in, is saved in the Sinergym output folder, leaving the original intact:"
            ]
        },
        {
            "cell_type": "code",
            "execution_count": 9,
            "metadata": {},
            "outputs": [
                {
                    "name": "stdout",
                    "output_type": "stream",
                    "text": [
                        "[2023-05-25 09:35:02,416] EPLUS_ENV_datacenter-cool-continuous-stochastic-v1_MainThread_ROOT INFO:Updating Building model ExternalInterface object if it is not present...\n",
                        "[2023-05-25 09:35:02,417] EPLUS_ENV_datacenter-cool-continuous-stochastic-v1_MainThread_ROOT INFO:Updating Building model Site:Location and SizingPeriod:DesignDay(s) to weather and ddy file...\n",
                        "[2023-05-25 09:35:02,418] EPLUS_ENV_datacenter-cool-continuous-stochastic-v1_MainThread_ROOT INFO:Updating building model OutPut:Variable and variables XML tree model for BVCTB connection.\n",
                        "[2023-05-25 09:35:02,418] EPLUS_ENV_datacenter-cool-continuous-stochastic-v1_MainThread_ROOT INFO:Setting up extra configuration in building model if exists...\n",
                        "[2023-05-25 09:35:02,419] EPLUS_ENV_datacenter-cool-continuous-stochastic-v1_MainThread_ROOT INFO:Setting up action definition in building model if exists...\n"
                    ]
                }
            ],
            "source": [
                "extra_conf={\n",
                "    'timesteps_per_hour':6,\n",
                "    'runperiod':(1,1,1991,2,1,1992),\n",
                "}\n",
                "\n",
                "env = gym.make('Eplus-datacenter-cool-continuous-stochastic-v1', \n",
                "                config_params=extra_conf\n",
                "                )"
            ]
        },
        {
            "attachments": {},
            "cell_type": "markdown",
            "metadata": {},
            "source": [
                "For more information about extra configuration parameters, see our [Extra configuration documentation](https://ugr-sail.github.io/sinergym/compilation/html/pages/extra-configuration.html)"
            ]
        }
    ],
    "metadata": {
        "kernelspec": {
            "display_name": "Python 3.10.4 64-bit",
            "language": "python",
            "name": "python3"
        },
        "language_info": {
            "codemirror_mode": {
                "name": "ipython",
                "version": 3
            },
            "file_extension": ".py",
            "mimetype": "text/x-python",
            "name": "python",
            "nbconvert_exporter": "python",
            "pygments_lexer": "ipython3",
            "version": "3.10.6"
        },
        "vscode": {
            "interpreter": {
                "hash": "e7370f93d1d0cde622a1f8e1c04877d8463912d04d973331ad4851f04de6915a"
            }
        }
    },
    "nbformat": 4,
    "nbformat_minor": 0
}
